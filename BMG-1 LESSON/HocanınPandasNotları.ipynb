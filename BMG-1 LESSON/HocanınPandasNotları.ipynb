{
 "cells": [
  {
   "cell_type": "code",
   "execution_count": 18,
   "id": "9915db2e",
   "metadata": {},
   "outputs": [],
   "source": [
    "import pandas as pd"
   ]
  },
  {
   "cell_type": "code",
   "execution_count": 19,
   "id": "df72cd12",
   "metadata": {},
   "outputs": [],
   "source": [
    "import numpy as np"
   ]
  },
  {
   "cell_type": "code",
   "execution_count": 20,
   "id": "b74927cf",
   "metadata": {},
   "outputs": [],
   "source": [
    "nes = pd.Series([1,\"Ali\",3.5,\"Haci\"])"
   ]
  },
  {
   "cell_type": "code",
   "execution_count": 21,
   "id": "ca81ef88",
   "metadata": {},
   "outputs": [
    {
     "data": {
      "text/plain": [
       "0       1\n",
       "1     Ali\n",
       "2     3.5\n",
       "3    Haci\n",
       "dtype: object"
      ]
     },
     "execution_count": 21,
     "metadata": {},
     "output_type": "execute_result"
    }
   ],
   "source": [
    "nes"
   ]
  },
  {
   "cell_type": "code",
   "execution_count": 22,
   "id": "7a7421d5",
   "metadata": {},
   "outputs": [
    {
     "data": {
      "text/plain": [
       "'Haci'"
      ]
     },
     "execution_count": 22,
     "metadata": {},
     "output_type": "execute_result"
    }
   ],
   "source": [
    "nes[3]"
   ]
  },
  {
   "cell_type": "code",
   "execution_count": 24,
   "id": "d1dacac8",
   "metadata": {},
   "outputs": [],
   "source": [
    "d=nes.values # Serisı diziye Çevirme"
   ]
  },
  {
   "cell_type": "code",
   "execution_count": 25,
   "id": "17b1aea2",
   "metadata": {},
   "outputs": [
    {
     "data": {
      "text/plain": [
       "array([1, 'Ali', 3.5, 'Haci'], dtype=object)"
      ]
     },
     "execution_count": 25,
     "metadata": {},
     "output_type": "execute_result"
    }
   ],
   "source": [
    "d"
   ]
  },
  {
   "cell_type": "code",
   "execution_count": 26,
   "id": "3c62d62b",
   "metadata": {},
   "outputs": [],
   "source": [
    "nes1=pd.Series([1,\"Ali\",3.5,\"Haci\"], index=[\"a\",\"b\",\"c\",\"d\"]) # Series ın indekslerini değiştirmek farklı isim"
   ]
  },
  {
   "cell_type": "code",
   "execution_count": 27,
   "id": "94de726d",
   "metadata": {},
   "outputs": [
    {
     "data": {
      "text/plain": [
       "1"
      ]
     },
     "execution_count": 27,
     "metadata": {},
     "output_type": "execute_result"
    }
   ],
   "source": [
    "nes1[\"a\"]"
   ]
  },
  {
   "cell_type": "code",
   "execution_count": 28,
   "id": "b5e9945a",
   "metadata": {},
   "outputs": [
    {
     "data": {
      "text/plain": [
       "Index(['a', 'b', 'c', 'd'], dtype='object')"
      ]
     },
     "execution_count": 28,
     "metadata": {},
     "output_type": "execute_result"
    }
   ],
   "source": [
    "nes1.index"
   ]
  },
  {
   "cell_type": "code",
   "execution_count": 29,
   "id": "0618df71",
   "metadata": {},
   "outputs": [],
   "source": [
    "# sözlüğü serese çevirmek"
   ]
  },
  {
   "cell_type": "code",
   "execution_count": 30,
   "id": "dc13d540",
   "metadata": {},
   "outputs": [],
   "source": [
    "s={\"ali\":200,\"veli\":300,\"ayse\":500}"
   ]
  },
  {
   "cell_type": "code",
   "execution_count": 31,
   "id": "af3bc03b",
   "metadata": {},
   "outputs": [],
   "source": [
    "ss=pd.Series(s)"
   ]
  },
  {
   "cell_type": "code",
   "execution_count": 32,
   "id": "cf8bd431",
   "metadata": {},
   "outputs": [
    {
     "data": {
      "text/plain": [
       "ali     200\n",
       "veli    300\n",
       "ayse    500\n",
       "dtype: int64"
      ]
     },
     "execution_count": 32,
     "metadata": {},
     "output_type": "execute_result"
    }
   ],
   "source": [
    "ss"
   ]
  },
  {
   "cell_type": "code",
   "execution_count": 33,
   "id": "501cb6ff",
   "metadata": {},
   "outputs": [
    {
     "data": {
      "text/plain": [
       "200"
      ]
     },
     "execution_count": 33,
     "metadata": {},
     "output_type": "execute_result"
    }
   ],
   "source": [
    "ss[\"ali\"]"
   ]
  },
  {
   "cell_type": "code",
   "execution_count": 34,
   "id": "83cd1526",
   "metadata": {},
   "outputs": [
    {
     "data": {
      "text/plain": [
       "veli    300\n",
       "ayse    500\n",
       "dtype: int64"
      ]
     },
     "execution_count": 34,
     "metadata": {},
     "output_type": "execute_result"
    }
   ],
   "source": [
    "ss[ss>250]"
   ]
  },
  {
   "cell_type": "code",
   "execution_count": 35,
   "id": "01d6f2d7",
   "metadata": {},
   "outputs": [
    {
     "data": {
      "text/plain": [
       "ali      True\n",
       "veli     True\n",
       "ayse    False\n",
       "dtype: bool"
      ]
     },
     "execution_count": 35,
     "metadata": {},
     "output_type": "execute_result"
    }
   ],
   "source": [
    "ss<400"
   ]
  },
  {
   "cell_type": "code",
   "execution_count": 36,
   "id": "971d036f",
   "metadata": {},
   "outputs": [],
   "source": [
    "ss[\"ali\"]=250"
   ]
  },
  {
   "cell_type": "code",
   "execution_count": 37,
   "id": "b0681023",
   "metadata": {},
   "outputs": [
    {
     "data": {
      "text/plain": [
       "ali     250\n",
       "veli    300\n",
       "ayse    500\n",
       "dtype: int64"
      ]
     },
     "execution_count": 37,
     "metadata": {},
     "output_type": "execute_result"
    }
   ],
   "source": [
    "ss"
   ]
  },
  {
   "cell_type": "code",
   "execution_count": 38,
   "id": "cba7637f",
   "metadata": {},
   "outputs": [],
   "source": [
    "ss[ss<350]=222"
   ]
  },
  {
   "cell_type": "code",
   "execution_count": 39,
   "id": "cc00bb0e",
   "metadata": {},
   "outputs": [
    {
     "data": {
      "text/plain": [
       "ali     222\n",
       "veli    222\n",
       "ayse    500\n",
       "dtype: int64"
      ]
     },
     "execution_count": 39,
     "metadata": {},
     "output_type": "execute_result"
    }
   ],
   "source": [
    "ss"
   ]
  },
  {
   "cell_type": "code",
   "execution_count": 42,
   "id": "1c33a14c",
   "metadata": {},
   "outputs": [
    {
     "data": {
      "text/plain": [
       "True"
      ]
     },
     "execution_count": 42,
     "metadata": {},
     "output_type": "execute_result"
    }
   ],
   "source": [
    "\"veli\" in ss"
   ]
  },
  {
   "cell_type": "code",
   "execution_count": 44,
   "id": "2a438d0b",
   "metadata": {},
   "outputs": [
    {
     "data": {
      "text/plain": [
       "ali     222\n",
       "veli    222\n",
       "ayse    500\n",
       "dtype: int64"
      ]
     },
     "execution_count": 44,
     "metadata": {},
     "output_type": "execute_result"
    }
   ],
   "source": [
    "ss"
   ]
  },
  {
   "cell_type": "code",
   "execution_count": 49,
   "id": "97d22df2",
   "metadata": {},
   "outputs": [
    {
     "data": {
      "text/plain": [
       "False"
      ]
     },
     "execution_count": 49,
     "metadata": {},
     "output_type": "execute_result"
    }
   ],
   "source": [
    "222 in ss"
   ]
  },
  {
   "cell_type": "code",
   "execution_count": 50,
   "id": "8a8fecac",
   "metadata": {},
   "outputs": [
    {
     "data": {
      "text/plain": [
       "ali     22.2\n",
       "veli    22.2\n",
       "ayse    50.0\n",
       "dtype: float64"
      ]
     },
     "execution_count": 50,
     "metadata": {},
     "output_type": "execute_result"
    }
   ],
   "source": [
    "ss/10"
   ]
  },
  {
   "cell_type": "code",
   "execution_count": 52,
   "id": "bb033732",
   "metadata": {},
   "outputs": [
    {
     "data": {
      "text/plain": [
       "ali     False\n",
       "veli    False\n",
       "ayse    False\n",
       "dtype: bool"
      ]
     },
     "execution_count": 52,
     "metadata": {},
     "output_type": "execute_result"
    }
   ],
   "source": [
    "ss.isnull()"
   ]
  },
  {
   "cell_type": "code",
   "execution_count": null,
   "id": "3ce8b022",
   "metadata": {},
   "outputs": [],
   "source": []
  },
  {
   "cell_type": "code",
   "execution_count": null,
   "id": "0bdde884",
   "metadata": {},
   "outputs": [],
   "source": [
    "# series veri yapısı örnekler"
   ]
  },
  {
   "cell_type": "code",
   "execution_count": 53,
   "id": "021110e6",
   "metadata": {},
   "outputs": [],
   "source": [
    "oyunlar=pd.read_csv(\"vgsalesGlobale.csv\")"
   ]
  },
  {
   "cell_type": "code",
   "execution_count": 55,
   "id": "b7e08972",
   "metadata": {},
   "outputs": [
    {
     "data": {
      "text/html": [
       "<div>\n",
       "<style scoped>\n",
       "    .dataframe tbody tr th:only-of-type {\n",
       "        vertical-align: middle;\n",
       "    }\n",
       "\n",
       "    .dataframe tbody tr th {\n",
       "        vertical-align: top;\n",
       "    }\n",
       "\n",
       "    .dataframe thead th {\n",
       "        text-align: right;\n",
       "    }\n",
       "</style>\n",
       "<table border=\"1\" class=\"dataframe\">\n",
       "  <thead>\n",
       "    <tr style=\"text-align: right;\">\n",
       "      <th></th>\n",
       "      <th>Rank</th>\n",
       "      <th>Name</th>\n",
       "      <th>Platform</th>\n",
       "      <th>Year</th>\n",
       "      <th>Genre</th>\n",
       "      <th>Publisher</th>\n",
       "      <th>NA_Sales</th>\n",
       "      <th>EU_Sales</th>\n",
       "      <th>JP_Sales</th>\n",
       "      <th>Other_Sales</th>\n",
       "      <th>Global_Sales</th>\n",
       "    </tr>\n",
       "  </thead>\n",
       "  <tbody>\n",
       "    <tr>\n",
       "      <th>0</th>\n",
       "      <td>1</td>\n",
       "      <td>Wii Sports</td>\n",
       "      <td>Wii</td>\n",
       "      <td>2006.0</td>\n",
       "      <td>Sports</td>\n",
       "      <td>Nintendo</td>\n",
       "      <td>41.49</td>\n",
       "      <td>29.02</td>\n",
       "      <td>3.77</td>\n",
       "      <td>8.46</td>\n",
       "      <td>82.74</td>\n",
       "    </tr>\n",
       "    <tr>\n",
       "      <th>1</th>\n",
       "      <td>2</td>\n",
       "      <td>Super Mario Bros.</td>\n",
       "      <td>NES</td>\n",
       "      <td>1985.0</td>\n",
       "      <td>Platform</td>\n",
       "      <td>Nintendo</td>\n",
       "      <td>29.08</td>\n",
       "      <td>3.58</td>\n",
       "      <td>6.81</td>\n",
       "      <td>0.77</td>\n",
       "      <td>40.24</td>\n",
       "    </tr>\n",
       "    <tr>\n",
       "      <th>2</th>\n",
       "      <td>3</td>\n",
       "      <td>Mario Kart Wii</td>\n",
       "      <td>Wii</td>\n",
       "      <td>2008.0</td>\n",
       "      <td>Racing</td>\n",
       "      <td>Nintendo</td>\n",
       "      <td>15.85</td>\n",
       "      <td>12.88</td>\n",
       "      <td>3.79</td>\n",
       "      <td>3.31</td>\n",
       "      <td>35.82</td>\n",
       "    </tr>\n",
       "    <tr>\n",
       "      <th>3</th>\n",
       "      <td>4</td>\n",
       "      <td>Wii Sports Resort</td>\n",
       "      <td>Wii</td>\n",
       "      <td>2009.0</td>\n",
       "      <td>Sports</td>\n",
       "      <td>Nintendo</td>\n",
       "      <td>15.75</td>\n",
       "      <td>11.01</td>\n",
       "      <td>3.28</td>\n",
       "      <td>2.96</td>\n",
       "      <td>33.00</td>\n",
       "    </tr>\n",
       "    <tr>\n",
       "      <th>4</th>\n",
       "      <td>5</td>\n",
       "      <td>Pokemon Red/Pokemon Blue</td>\n",
       "      <td>GB</td>\n",
       "      <td>1996.0</td>\n",
       "      <td>Role-Playing</td>\n",
       "      <td>Nintendo</td>\n",
       "      <td>11.27</td>\n",
       "      <td>8.89</td>\n",
       "      <td>10.22</td>\n",
       "      <td>1.00</td>\n",
       "      <td>31.37</td>\n",
       "    </tr>\n",
       "  </tbody>\n",
       "</table>\n",
       "</div>"
      ],
      "text/plain": [
       "   Rank                      Name Platform    Year         Genre Publisher  \\\n",
       "0     1                Wii Sports      Wii  2006.0        Sports  Nintendo   \n",
       "1     2         Super Mario Bros.      NES  1985.0      Platform  Nintendo   \n",
       "2     3            Mario Kart Wii      Wii  2008.0        Racing  Nintendo   \n",
       "3     4         Wii Sports Resort      Wii  2009.0        Sports  Nintendo   \n",
       "4     5  Pokemon Red/Pokemon Blue       GB  1996.0  Role-Playing  Nintendo   \n",
       "\n",
       "   NA_Sales  EU_Sales  JP_Sales  Other_Sales  Global_Sales  \n",
       "0     41.49     29.02      3.77         8.46         82.74  \n",
       "1     29.08      3.58      6.81         0.77         40.24  \n",
       "2     15.85     12.88      3.79         3.31         35.82  \n",
       "3     15.75     11.01      3.28         2.96         33.00  \n",
       "4     11.27      8.89     10.22         1.00         31.37  "
      ]
     },
     "execution_count": 55,
     "metadata": {},
     "output_type": "execute_result"
    }
   ],
   "source": [
    "oyunlar.head() # ilk 5 veriyi getirme"
   ]
  },
  {
   "cell_type": "code",
   "execution_count": 56,
   "id": "f276d9e2",
   "metadata": {},
   "outputs": [
    {
     "data": {
      "text/plain": [
       "Index(['Rank', 'Name', 'Platform', 'Year', 'Genre', 'Publisher', 'NA_Sales',\n",
       "       'EU_Sales', 'JP_Sales', 'Other_Sales', 'Global_Sales'],\n",
       "      dtype='object')"
      ]
     },
     "execution_count": 56,
     "metadata": {},
     "output_type": "execute_result"
    }
   ],
   "source": [
    "oyunlar.columns"
   ]
  },
  {
   "cell_type": "code",
   "execution_count": 57,
   "id": "eb3502d8",
   "metadata": {},
   "outputs": [
    {
     "data": {
      "text/plain": [
       "0                  Wii Sports\n",
       "1           Super Mario Bros.\n",
       "2              Mario Kart Wii\n",
       "3           Wii Sports Resort\n",
       "4    Pokemon Red/Pokemon Blue\n",
       "Name: Name, dtype: object"
      ]
     },
     "execution_count": 57,
     "metadata": {},
     "output_type": "execute_result"
    }
   ],
   "source": [
    "oyunlar.Name.head()"
   ]
  },
  {
   "cell_type": "code",
   "execution_count": 58,
   "id": "b5ddc7b5",
   "metadata": {},
   "outputs": [
    {
     "data": {
      "text/plain": [
       "0    Wii\n",
       "1    NES\n",
       "2    Wii\n",
       "3    Wii\n",
       "4     GB\n",
       "Name: Platform, dtype: object"
      ]
     },
     "execution_count": 58,
     "metadata": {},
     "output_type": "execute_result"
    }
   ],
   "source": [
    "oyunlar[\"Platform\"].head()"
   ]
  },
  {
   "cell_type": "code",
   "execution_count": 59,
   "id": "70e738de",
   "metadata": {},
   "outputs": [
    {
     "data": {
      "text/html": [
       "<div>\n",
       "<style scoped>\n",
       "    .dataframe tbody tr th:only-of-type {\n",
       "        vertical-align: middle;\n",
       "    }\n",
       "\n",
       "    .dataframe tbody tr th {\n",
       "        vertical-align: top;\n",
       "    }\n",
       "\n",
       "    .dataframe thead th {\n",
       "        text-align: right;\n",
       "    }\n",
       "</style>\n",
       "<table border=\"1\" class=\"dataframe\">\n",
       "  <thead>\n",
       "    <tr style=\"text-align: right;\">\n",
       "      <th></th>\n",
       "      <th>Platform</th>\n",
       "      <th>Name</th>\n",
       "    </tr>\n",
       "  </thead>\n",
       "  <tbody>\n",
       "    <tr>\n",
       "      <th>0</th>\n",
       "      <td>Wii</td>\n",
       "      <td>Wii Sports</td>\n",
       "    </tr>\n",
       "    <tr>\n",
       "      <th>1</th>\n",
       "      <td>NES</td>\n",
       "      <td>Super Mario Bros.</td>\n",
       "    </tr>\n",
       "    <tr>\n",
       "      <th>2</th>\n",
       "      <td>Wii</td>\n",
       "      <td>Mario Kart Wii</td>\n",
       "    </tr>\n",
       "    <tr>\n",
       "      <th>3</th>\n",
       "      <td>Wii</td>\n",
       "      <td>Wii Sports Resort</td>\n",
       "    </tr>\n",
       "    <tr>\n",
       "      <th>4</th>\n",
       "      <td>GB</td>\n",
       "      <td>Pokemon Red/Pokemon Blue</td>\n",
       "    </tr>\n",
       "  </tbody>\n",
       "</table>\n",
       "</div>"
      ],
      "text/plain": [
       "  Platform                      Name\n",
       "0      Wii                Wii Sports\n",
       "1      NES         Super Mario Bros.\n",
       "2      Wii            Mario Kart Wii\n",
       "3      Wii         Wii Sports Resort\n",
       "4       GB  Pokemon Red/Pokemon Blue"
      ]
     },
     "execution_count": 59,
     "metadata": {},
     "output_type": "execute_result"
    }
   ],
   "source": [
    "oyunlar[[\"Platform\",\"Name\"]].head()"
   ]
  },
  {
   "cell_type": "code",
   "execution_count": null,
   "id": "a1bf1234",
   "metadata": {},
   "outputs": [],
   "source": []
  }
 ],
 "metadata": {
  "kernelspec": {
   "display_name": "Python 3 (ipykernel)",
   "language": "python",
   "name": "python3"
  },
  "language_info": {
   "codemirror_mode": {
    "name": "ipython",
    "version": 3
   },
   "file_extension": ".py",
   "mimetype": "text/x-python",
   "name": "python",
   "nbconvert_exporter": "python",
   "pygments_lexer": "ipython3",
   "version": "3.9.7"
  }
 },
 "nbformat": 4,
 "nbformat_minor": 5
}
